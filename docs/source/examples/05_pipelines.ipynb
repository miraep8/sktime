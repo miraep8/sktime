{
 "cells": [
  {
   "cell_type": "markdown",
   "metadata": {},
   "source": [
    "### Pipelines in sktime\n",
    "\n"
   ]
  }
 ],
 "metadata": {
  "kernelspec": {
   "display_name": "Python 3.8.1 ('editable_install')",
   "language": "python",
   "name": "python3"
  },
  "language_info": {
   "name": "python",
   "version": "3.8.1"
  },
  "orig_nbformat": 4,
  "vscode": {
   "interpreter": {
    "hash": "b5d7af66196b620a8bf2c0b137ddd93272dbb2f2ed47058d3ea6d1d5d387f29e"
   }
  }
 },
 "nbformat": 4,
 "nbformat_minor": 2
}
